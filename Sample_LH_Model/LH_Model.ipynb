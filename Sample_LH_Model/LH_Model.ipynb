{
 "cells": [
  {
   "cell_type": "markdown",
   "id": "48a90fde",
   "metadata": {},
   "source": [
    "### LH Model"
   ]
  },
  {
   "cell_type": "code",
   "execution_count": 4,
   "id": "f855a38d",
   "metadata": {},
   "outputs": [],
   "source": [
    "import psycopg2\n",
    "from datetime import datetime, timedelta, date\n",
    "import datetime\n",
    "import copy\n",
    "import numpy as np\n",
    "import pandas as pd\n",
    "from datetime import datetime\n",
    "import gspread\n",
    "from oauth2client.service_account import ServiceAccountCredentials\n",
    "from pprint import pprint\n",
    "from df2gspread import df2gspread as d2g\n",
    "from tqdm import tqdm\n",
    "from pulp import *\n",
    "import math\n",
    "import geopandas as gpd\n",
    "from shapely.geometry import Point\n",
    "from shapely.geometry import Polygon\n",
    "import googlemaps\n",
    "import time\n",
    "import warnings\n",
    "warnings.filterwarnings('ignore')\n",
    "gpd.io.file.fiona.drvsupport.supported_drivers['KML'] = 'rw'"
   ]
  },
  {
   "cell_type": "markdown",
   "id": "715ee66e",
   "metadata": {},
   "source": [
    "#### Constructing dataframes for LH"
   ]
  },
  {
   "cell_type": "code",
   "execution_count": 105,
   "id": "a9e5b80c",
   "metadata": {},
   "outputs": [],
   "source": [
    "child_whs = pd.read_csv('child_whs.csv')\n",
    "parent_whs = pd.read_csv('parent_whs.csv')"
   ]
  },
  {
   "cell_type": "code",
   "execution_count": 122,
   "id": "bf34b76b",
   "metadata": {},
   "outputs": [
    {
     "data": {
      "text/html": [
       "<div>\n",
       "<style scoped>\n",
       "    .dataframe tbody tr th:only-of-type {\n",
       "        vertical-align: middle;\n",
       "    }\n",
       "\n",
       "    .dataframe tbody tr th {\n",
       "        vertical-align: top;\n",
       "    }\n",
       "\n",
       "    .dataframe thead th {\n",
       "        text-align: right;\n",
       "    }\n",
       "</style>\n",
       "<table border=\"1\" class=\"dataframe\">\n",
       "  <thead>\n",
       "    <tr style=\"text-align: right;\">\n",
       "      <th></th>\n",
       "      <th>Unnamed: 0</th>\n",
       "      <th>created_at</th>\n",
       "      <th>hour</th>\n",
       "      <th>activation</th>\n",
       "      <th>wh_id</th>\n",
       "      <th>wh</th>\n",
       "      <th>product_id</th>\n",
       "      <th>stock_minunit</th>\n",
       "      <th>basic_unit_count</th>\n",
       "      <th>stock</th>\n",
       "      <th>...</th>\n",
       "      <th>rr_minunit</th>\n",
       "      <th>avg_price</th>\n",
       "      <th>wh_cont</th>\n",
       "      <th>total_dc_stock</th>\n",
       "      <th>rr_max</th>\n",
       "      <th>base</th>\n",
       "      <th>gap</th>\n",
       "      <th>n_rop</th>\n",
       "      <th>rop</th>\n",
       "      <th>doh</th>\n",
       "    </tr>\n",
       "  </thead>\n",
       "  <tbody>\n",
       "    <tr>\n",
       "      <th>0</th>\n",
       "      <td>0</td>\n",
       "      <td>2022-06-14</td>\n",
       "      <td>21.0</td>\n",
       "      <td>False</td>\n",
       "      <td>1</td>\n",
       "      <td>Mostorod</td>\n",
       "      <td>2</td>\n",
       "      <td>0.0</td>\n",
       "      <td>1.0</td>\n",
       "      <td>0.0</td>\n",
       "      <td>...</td>\n",
       "      <td>0.0</td>\n",
       "      <td>96.0</td>\n",
       "      <td>0.15248</td>\n",
       "      <td>0.0</td>\n",
       "      <td>0.0</td>\n",
       "      <td>2.5</td>\n",
       "      <td>1.5</td>\n",
       "      <td>0.0</td>\n",
       "      <td>0.0</td>\n",
       "      <td>1.5</td>\n",
       "    </tr>\n",
       "    <tr>\n",
       "      <th>1</th>\n",
       "      <td>1</td>\n",
       "      <td>2022-06-14</td>\n",
       "      <td>21.0</td>\n",
       "      <td>False</td>\n",
       "      <td>1</td>\n",
       "      <td>Mostorod</td>\n",
       "      <td>4</td>\n",
       "      <td>0.0</td>\n",
       "      <td>1.0</td>\n",
       "      <td>0.0</td>\n",
       "      <td>...</td>\n",
       "      <td>0.0</td>\n",
       "      <td>151.0</td>\n",
       "      <td>0.15248</td>\n",
       "      <td>0.0</td>\n",
       "      <td>0.0</td>\n",
       "      <td>2.5</td>\n",
       "      <td>1.5</td>\n",
       "      <td>0.0</td>\n",
       "      <td>0.0</td>\n",
       "      <td>1.5</td>\n",
       "    </tr>\n",
       "  </tbody>\n",
       "</table>\n",
       "<p>2 rows × 21 columns</p>\n",
       "</div>"
      ],
      "text/plain": [
       "   Unnamed: 0  created_at  hour  activation  wh_id        wh  product_id  \\\n",
       "0           0  2022-06-14  21.0       False      1  Mostorod           2   \n",
       "1           1  2022-06-14  21.0       False      1  Mostorod           4   \n",
       "\n",
       "   stock_minunit  basic_unit_count  stock  ...  rr_minunit  avg_price  \\\n",
       "0            0.0               1.0    0.0  ...         0.0       96.0   \n",
       "1            0.0               1.0    0.0  ...         0.0      151.0   \n",
       "\n",
       "   wh_cont  total_dc_stock  rr_max  base  gap  n_rop  rop  doh  \n",
       "0  0.15248             0.0     0.0   2.5  1.5    0.0  0.0  1.5  \n",
       "1  0.15248             0.0     0.0   2.5  1.5    0.0  0.0  1.5  \n",
       "\n",
       "[2 rows x 21 columns]"
      ]
     },
     "execution_count": 122,
     "metadata": {},
     "output_type": "execute_result"
    }
   ],
   "source": [
    "child_whs.head(2)"
   ]
  },
  {
   "cell_type": "code",
   "execution_count": 123,
   "id": "ea609317",
   "metadata": {},
   "outputs": [
    {
     "data": {
      "text/html": [
       "<div>\n",
       "<style scoped>\n",
       "    .dataframe tbody tr th:only-of-type {\n",
       "        vertical-align: middle;\n",
       "    }\n",
       "\n",
       "    .dataframe tbody tr th {\n",
       "        vertical-align: top;\n",
       "    }\n",
       "\n",
       "    .dataframe thead th {\n",
       "        text-align: right;\n",
       "    }\n",
       "</style>\n",
       "<table border=\"1\" class=\"dataframe\">\n",
       "  <thead>\n",
       "    <tr style=\"text-align: right;\">\n",
       "      <th></th>\n",
       "      <th>Unnamed: 0</th>\n",
       "      <th>created_at</th>\n",
       "      <th>hour</th>\n",
       "      <th>activation</th>\n",
       "      <th>wh_id</th>\n",
       "      <th>wh</th>\n",
       "      <th>product_id</th>\n",
       "      <th>stock_minunit</th>\n",
       "      <th>basic_unit_count</th>\n",
       "      <th>stock</th>\n",
       "    </tr>\n",
       "  </thead>\n",
       "  <tbody>\n",
       "    <tr>\n",
       "      <th>0</th>\n",
       "      <td>0</td>\n",
       "      <td>2022-06-14</td>\n",
       "      <td>21.0</td>\n",
       "      <td>False</td>\n",
       "      <td>4</td>\n",
       "      <td>Mostorod DC</td>\n",
       "      <td>2</td>\n",
       "      <td>0.0</td>\n",
       "      <td>1.0</td>\n",
       "      <td>0.0</td>\n",
       "    </tr>\n",
       "    <tr>\n",
       "      <th>1</th>\n",
       "      <td>1</td>\n",
       "      <td>2022-06-14</td>\n",
       "      <td>21.0</td>\n",
       "      <td>False</td>\n",
       "      <td>4</td>\n",
       "      <td>Mostorod DC</td>\n",
       "      <td>4</td>\n",
       "      <td>0.0</td>\n",
       "      <td>1.0</td>\n",
       "      <td>0.0</td>\n",
       "    </tr>\n",
       "  </tbody>\n",
       "</table>\n",
       "</div>"
      ],
      "text/plain": [
       "   Unnamed: 0  created_at  hour  activation  wh_id           wh  product_id  \\\n",
       "0           0  2022-06-14  21.0       False      4  Mostorod DC           2   \n",
       "1           1  2022-06-14  21.0       False      4  Mostorod DC           4   \n",
       "\n",
       "   stock_minunit  basic_unit_count  stock  \n",
       "0            0.0               1.0    0.0  \n",
       "1            0.0               1.0    0.0  "
      ]
     },
     "execution_count": 123,
     "metadata": {},
     "output_type": "execute_result"
    }
   ],
   "source": [
    "parent_whs.head(2)"
   ]
  },
  {
   "cell_type": "code",
   "execution_count": 106,
   "id": "c12888ef",
   "metadata": {},
   "outputs": [],
   "source": [
    "rep = child_whs.copy()"
   ]
  },
  {
   "cell_type": "code",
   "execution_count": 107,
   "id": "202313b7",
   "metadata": {},
   "outputs": [],
   "source": [
    "stock = parent_whs.copy()"
   ]
  },
  {
   "cell_type": "code",
   "execution_count": 108,
   "id": "22012d96",
   "metadata": {},
   "outputs": [],
   "source": [
    "rep['current_doh'] = rep['stock']/rep['rr']"
   ]
  },
  {
   "cell_type": "code",
   "execution_count": 109,
   "id": "069ed74f",
   "metadata": {},
   "outputs": [],
   "source": [
    "rep = rep[rep.current_doh <= rep.rop]"
   ]
  },
  {
   "cell_type": "code",
   "execution_count": 110,
   "id": "05a33e99",
   "metadata": {},
   "outputs": [],
   "source": [
    "rep['target'] = rep['doh']*rep['rr']  \n",
    "rep.target = rep.target.apply(math.ceil)"
   ]
  },
  {
   "cell_type": "code",
   "execution_count": 111,
   "id": "c83734a6",
   "metadata": {},
   "outputs": [],
   "source": [
    "rep['demand'] = rep['target'] - rep['stock'] "
   ]
  },
  {
   "cell_type": "markdown",
   "id": "9582f763",
   "metadata": {},
   "source": [
    "#### Optimization FX"
   ]
  },
  {
   "cell_type": "code",
   "execution_count": 115,
   "id": "ef548a32",
   "metadata": {},
   "outputs": [],
   "source": [
    "rep_df = rep.loc[rep['wh'].isin(FC_cairo)].copy()\n",
    "rep_df = rep_df.loc[~(rep_df['demand'] == np.inf)]\n",
    "\n",
    "stock_df = stock.loc[stock['wh'].isin(DC_cairo)].copy()"
   ]
  },
  {
   "cell_type": "code",
   "execution_count": 116,
   "id": "6c28036f",
   "metadata": {},
   "outputs": [],
   "source": [
    "stock_df = stock_df.drop_duplicates() \n",
    "rep_df = rep_df.drop_duplicates()"
   ]
  },
  {
   "cell_type": "code",
   "execution_count": 117,
   "id": "c7b85ba8",
   "metadata": {},
   "outputs": [
    {
     "name": "stderr",
     "output_type": "stream",
     "text": [
      "100%|██████████| 1890/1890 [01:23<00:00, 22.74it/s]\n"
     ]
    }
   ],
   "source": [
    "lh_error = []\n",
    "main_lh = pd.DataFrame()\n",
    "for id in tqdm(rep_df.product_id.unique()):\n",
    "    try:\n",
    "        stock_test = stock_df[(stock_df.product_id == id)].reset_index()[['product_id','wh_id','wh','stock']].copy()\n",
    "        rep_test = rep_df[(rep_df.product_id == id)].reset_index()[['product_id','wh_id','wh','stock','target','demand','avg_price','rr']].copy()\n",
    "        stock_test.wh = stock_test.wh.str.replace('-','_')\n",
    "        stock_test.wh = stock_test.wh.str.replace(' ','_')\n",
    "        rep_test.wh = rep_test.wh.str.replace('-','_')\n",
    "        rep_test.wh = rep_test.wh.str.replace(' ','_')\n",
    "\n",
    "        model = LpProblem(\"Minimize_LR\", LpMinimize)\n",
    "        cust = list(rep_test['wh'])\n",
    "        warehouse = list(stock_test['wh'])\n",
    "\n",
    "        stock_dict = dict(stock_test[['wh','stock']].values)\n",
    "        demand = dict(rep_test[['wh','demand']].values)\n",
    "\n",
    "        price = dict(rep_test[['wh','avg_price']].values)\n",
    "        target = dict(rep_test[['wh','target']].values)\n",
    "        available_stock = dict(rep_test[['wh','stock']].values)\n",
    "        rr = dict(rep_test[['wh','rr']].values)\n",
    "\n",
    "        rep_test['total_demand'] = rep_test.demand.sum()\n",
    "        rep_test['demand_cont'] = rep_test['demand']/(rep_test['total_demand']+.00000000000001)\n",
    "        demand_cont = dict(rep_test[['wh','demand_cont']].values)\n",
    "\n",
    "        x = LpVariable.dicts(\"Move_\", [(w,c) for w in warehouse for c in cust], lowBound=0, cat=\"Integer\")\n",
    "        model += lpSum(([(((((demand[c]-x[(w,c)]) * price[c]))))  for w in warehouse for c in cust]))\n",
    "        \n",
    "\n",
    "        for c in cust:\n",
    "            model += lpSum(x[(w,c)] for w in warehouse) <= demand[c]\n",
    "        for w in warehouse:\n",
    "            model += lpSum(x[(w,c)] for c in cust) <= stock_dict[w]\n",
    "\n",
    "        if (sum(stock_dict.values())) < sum(demand.values()):\n",
    "            for c in cust:\n",
    "                model += lpSum(x[(w,c)] for w in warehouse) <= (demand_cont[c]*sum(stock_dict.values()))\n",
    "\n",
    "\n",
    "        # Solve Model & Produce output in a dataframe\n",
    "        solver = PULP_CBC_CMD(timeLimit=150, msg=0)\n",
    "        model.solve(solver)\n",
    "\n",
    "        # print(\"Status:\", LpStatus[model.status])\n",
    "\n",
    "        lh = [{'wh_from':\"{}\".format(w),'wh_to':\"{}\".format(c), 'quant':x[(w,c)].varValue} for w in warehouse for c in cust]\n",
    "        lh = pd.DataFrame(lh)\n",
    "        lh['product_id'] = id\n",
    "\n",
    "        main_lh = main_lh.append(lh)\n",
    "    except:\n",
    "        lh_error.append(id)\n",
    "main_lh.reset_index(drop = True)\n",
    "main_lh = main_lh[['product_id','wh_from','wh_to','quant']]"
   ]
  },
  {
   "cell_type": "code",
   "execution_count": 118,
   "id": "b4551edb",
   "metadata": {},
   "outputs": [],
   "source": [
    "main_lh = main_lh[main_lh.quant != 0].reset_index().drop(columns='index')"
   ]
  },
  {
   "cell_type": "code",
   "execution_count": 119,
   "id": "3c611d65",
   "metadata": {},
   "outputs": [
    {
     "data": {
      "text/html": [
       "<div>\n",
       "<style scoped>\n",
       "    .dataframe tbody tr th:only-of-type {\n",
       "        vertical-align: middle;\n",
       "    }\n",
       "\n",
       "    .dataframe tbody tr th {\n",
       "        vertical-align: top;\n",
       "    }\n",
       "\n",
       "    .dataframe thead th {\n",
       "        text-align: right;\n",
       "    }\n",
       "</style>\n",
       "<table border=\"1\" class=\"dataframe\">\n",
       "  <thead>\n",
       "    <tr style=\"text-align: right;\">\n",
       "      <th></th>\n",
       "      <th>product_id</th>\n",
       "      <th>wh_from</th>\n",
       "      <th>wh_to</th>\n",
       "      <th>quant</th>\n",
       "    </tr>\n",
       "  </thead>\n",
       "  <tbody>\n",
       "    <tr>\n",
       "      <th>0</th>\n",
       "      <td>191</td>\n",
       "      <td>Barageel</td>\n",
       "      <td>Mostorod</td>\n",
       "      <td>28.0</td>\n",
       "    </tr>\n",
       "    <tr>\n",
       "      <th>1</th>\n",
       "      <td>191</td>\n",
       "      <td>Barageel</td>\n",
       "      <td>Abu_Rawash</td>\n",
       "      <td>9.0</td>\n",
       "    </tr>\n",
       "    <tr>\n",
       "      <th>2</th>\n",
       "      <td>191</td>\n",
       "      <td>Barageel</td>\n",
       "      <td>El_Marg</td>\n",
       "      <td>20.0</td>\n",
       "    </tr>\n",
       "    <tr>\n",
       "      <th>3</th>\n",
       "      <td>191</td>\n",
       "      <td>Barageel</td>\n",
       "      <td>Basatin</td>\n",
       "      <td>29.0</td>\n",
       "    </tr>\n",
       "    <tr>\n",
       "      <th>4</th>\n",
       "      <td>191</td>\n",
       "      <td>Barageel</td>\n",
       "      <td>Basous</td>\n",
       "      <td>6.0</td>\n",
       "    </tr>\n",
       "    <tr>\n",
       "      <th>5</th>\n",
       "      <td>191</td>\n",
       "      <td>Barageel</td>\n",
       "      <td>Cluster_Haram_warehouse</td>\n",
       "      <td>3.0</td>\n",
       "    </tr>\n",
       "    <tr>\n",
       "      <th>6</th>\n",
       "      <td>233</td>\n",
       "      <td>Anshas</td>\n",
       "      <td>Mostorod</td>\n",
       "      <td>1.0</td>\n",
       "    </tr>\n",
       "    <tr>\n",
       "      <th>7</th>\n",
       "      <td>233</td>\n",
       "      <td>Anshas</td>\n",
       "      <td>Abu_Rawash</td>\n",
       "      <td>1.0</td>\n",
       "    </tr>\n",
       "    <tr>\n",
       "      <th>8</th>\n",
       "      <td>233</td>\n",
       "      <td>Anshas</td>\n",
       "      <td>El_Marg</td>\n",
       "      <td>1.0</td>\n",
       "    </tr>\n",
       "    <tr>\n",
       "      <th>9</th>\n",
       "      <td>233</td>\n",
       "      <td>Anshas</td>\n",
       "      <td>Basatin</td>\n",
       "      <td>1.0</td>\n",
       "    </tr>\n",
       "  </tbody>\n",
       "</table>\n",
       "</div>"
      ],
      "text/plain": [
       "   product_id   wh_from                    wh_to  quant\n",
       "0         191  Barageel                 Mostorod   28.0\n",
       "1         191  Barageel               Abu_Rawash    9.0\n",
       "2         191  Barageel                  El_Marg   20.0\n",
       "3         191  Barageel                  Basatin   29.0\n",
       "4         191  Barageel                   Basous    6.0\n",
       "5         191  Barageel  Cluster_Haram_warehouse    3.0\n",
       "6         233    Anshas                 Mostorod    1.0\n",
       "7         233    Anshas               Abu_Rawash    1.0\n",
       "8         233    Anshas                  El_Marg    1.0\n",
       "9         233    Anshas                  Basatin    1.0"
      ]
     },
     "execution_count": 119,
     "metadata": {},
     "output_type": "execute_result"
    }
   ],
   "source": [
    "main_lh.head(10)"
   ]
  },
  {
   "cell_type": "code",
   "execution_count": null,
   "id": "2baa0d7b",
   "metadata": {},
   "outputs": [],
   "source": []
  }
 ],
 "metadata": {
  "kernelspec": {
   "display_name": "conda_python3",
   "language": "python",
   "name": "conda_python3"
  },
  "language_info": {
   "codemirror_mode": {
    "name": "ipython",
    "version": 3
   },
   "file_extension": ".py",
   "mimetype": "text/x-python",
   "name": "python",
   "nbconvert_exporter": "python",
   "pygments_lexer": "ipython3",
   "version": "3.6.13"
  }
 },
 "nbformat": 4,
 "nbformat_minor": 5
}
